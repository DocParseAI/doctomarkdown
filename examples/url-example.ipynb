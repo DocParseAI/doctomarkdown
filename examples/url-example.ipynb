{
 "cells": [
  {
   "cell_type": "markdown",
   "id": "4ac4a52c",
   "metadata": {},
   "source": [
    "# Example without LLM"
   ]
  },
  {
   "cell_type": "code",
   "execution_count": null,
   "id": "d66e253c",
   "metadata": {},
   "outputs": [],
   "source": [
    "from doctomarkdown import DocToMarkdown\n",
    "from dotenv import load_dotenv\n",
    "load_dotenv()\n",
    "\n",
    "app = DocToMarkdown()\n",
    "\n",
    "result = app.convert_url_to_markdown(\n",
    "    urlpath=\"https://en.wikipedia.org/wiki/Wikipedia\",\n",
    "    extract_images=True,\n",
    "    extract_tables=True,\n",
    "    output_path=\"markdown_output\"\n",
    ")\n",
    "\n",
    "for page in result.pages:\n",
    "    print(f\"Page Number: {page.page_number} | Page Content: {page.page_content}\")"
   ]
  },
  {
   "cell_type": "markdown",
   "id": "cad4b8b0",
   "metadata": {},
   "source": [
    "# Example using LLM"
   ]
  },
  {
   "cell_type": "code",
   "execution_count": null,
   "id": "a8f782d9",
   "metadata": {},
   "outputs": [],
   "source": [
    "from groq import Groq\n",
    "from doctomarkdown import DocToMarkdown\n",
    "from dotenv import load_dotenv\n",
    "import os\n",
    "load_dotenv()\n",
    "\n",
    "client_groq = Groq(\n",
    "    api_key=\"API_KEY\",\n",
    ")\n",
    "\n",
    "app = DocToMarkdown(\n",
    "    llm_client=client_groq,\n",
    "    llm_model='meta-llama/llama-4-scout-17b-16e-instruct'\n",
    ")\n",
    "\n",
    "result = app.convert_url_to_markdown(\n",
    "    urlpath=\"https://en.wikipedia.org/wiki/Wikipedia\",\n",
    "    extract_images=True,\n",
    "    extract_tables=True,\n",
    "    output_path=\"markdown_output\"\n",
    ")\n",
    "\n",
    "for page in result.pages:\n",
    "    print(f\"Page Number: {page.page_number} | Page Content: {page.page_content}\")"
   ]
  }
 ],
 "metadata": {
  "kernelspec": {
   "display_name": "Python 3",
   "language": "python",
   "name": "python3"
  },
  "language_info": {
   "codemirror_mode": {
    "name": "ipython",
    "version": 3
   },
   "file_extension": ".py",
   "mimetype": "text/x-python",
   "name": "python",
   "nbconvert_exporter": "python",
   "pygments_lexer": "ipython3",
   "version": "3.11.12"
  }
 },
 "nbformat": 4,
 "nbformat_minor": 5
}
