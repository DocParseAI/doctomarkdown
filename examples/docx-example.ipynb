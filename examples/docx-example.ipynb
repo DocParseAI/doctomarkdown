{
 "cells": [
  {
   "cell_type": "code",
   "execution_count": 1,
   "id": "9afedf8f",
   "metadata": {},
   "outputs": [
    {
     "data": {
      "text/plain": [
       "True"
      ]
     },
     "execution_count": 1,
     "metadata": {},
     "output_type": "execute_result"
    }
   ],
   "source": [
    "from doctomarkdown import DocToMarkdown\n",
    "from dotenv import load_dotenv\n",
    "load_dotenv()"
   ]
  },
  {
   "cell_type": "code",
   "execution_count": 2,
   "id": "c9568a80",
   "metadata": {},
   "outputs": [
    {
     "name": "stdout",
     "output_type": "stream",
     "text": [
      "Page Number: 1 | Page Content: Sample Document.\n",
      "Project description\n",
      "New in docx2python Version 3\n",
      "Better type hints for DocxOutput properties. You should never get\n",
      "an \"or\" or \"Any\" type hint for the nested lists returned by\n",
      "Docx2Python.\n",
      "Support for \"strict\" namespaces. Word uses a superset of the\n",
      "standard Open Office XML format. Work can restrict itself to the\n",
      "standard by saving with the \"strict\" namespace. This is now\n",
      "supported.\n",
      "Tables exported as nested lists are now always nxm (n rows, m\n",
      "columns). This will simplify converting tables to markdown or other\n",
      "data types. Where duplicate_merged_cells is True, the table will be\n",
      "filled to nxm with content from adjacent cells. Where false, the\n",
      "table will be filled to nxm with empty cells.\n",
      "Tables can now be identified without guessing games (see Par\n",
      "Type).\n",
      "Word's paragraph styles are now exposed (e.g., Heading 2, Subtitle,\n",
      "Subtle Emphasis - see Par Type). If html=True, these will be\n",
      "exported as html tags where an obvious mapping exists (e.g.,\n",
      "Heading 1 -> h1).\n",
      "A paragraphs's position in a nested list is now exposed (see Par\n",
      "Type).\n",
      "Input boolean arguments 'html' (False) and 'duplicate_merged_cells'\n",
      "(True) are now keyword only.\n"
     ]
    }
   ],
   "source": [
    "\n",
    "app = DocToMarkdown()\n",
    "\n",
    "result = app.convert_pdf_to_markdown(\n",
    "    filepath=\"sample_docs/Sampledoc-1.docx\",\n",
    "    extract_images=True,\n",
    "    extract_tables=True,\n",
    "    output_path=\"markdown_output\"\n",
    ")\n",
    "\n",
    "for page in result.pages:\n",
    "    print(f\"Page Number: {page.page_number} | Page Content: {page.page_content}\")"
   ]
  },
  {
   "cell_type": "code",
   "execution_count": null,
   "id": "60df678a",
   "metadata": {},
   "outputs": [],
   "source": []
  }
 ],
 "metadata": {
  "kernelspec": {
   "display_name": "genai",
   "language": "python",
   "name": "python3"
  },
  "language_info": {
   "codemirror_mode": {
    "name": "ipython",
    "version": 3
   },
   "file_extension": ".py",
   "mimetype": "text/x-python",
   "name": "python",
   "nbconvert_exporter": "python",
   "pygments_lexer": "ipython3",
   "version": "3.12.8"
  }
 },
 "nbformat": 4,
 "nbformat_minor": 5
}
